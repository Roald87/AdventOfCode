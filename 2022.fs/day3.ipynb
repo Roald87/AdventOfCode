{
 "cells": [
  {
   "cell_type": "code",
   "execution_count": 1,
   "metadata": {
    "dotnet_interactive": {
     "language": "fsharp"
    },
    "polyglot_notebook": {
     "kernelName": "fsharp"
    }
   },
   "outputs": [
    {
     "data": {
      "text/html": [
       "<table><thead><tr><th><i>index</i></th><th>value</th></tr></thead><tbody><tr><td>0</td><td>GbccTtTSGGbgrcWBGGrdgTnVQnCmNpCJlNnNPVfClcnN</td></tr><tr><td>1</td><td>vMzvZhzhwDLVmQnClwwNQp</td></tr><tr><td>2</td><td>FRsZFzjQFsqRzRRjDZbdtTgdHBBWGrdBdHHs</td></tr><tr><td>3</td><td>HCLTmbCLgzNBNPSSlT</td></tr><tr><td>4</td><td>JJGMWRJMrrdwWWGjGWMLRGLjBzNQsBzPPfflzDPBsBffDrQz</td></tr><tr><td>5</td><td>pwJdLMjdMddWjLtwZWMMwGtHhnvnCnhvqVFFZnvbgbqVCZ</td></tr><tr><td>6</td><td>tvMCDCSVVvDDBQFRbqWMMsWgFWgc</td></tr><tr><td>7</td><td>BLLPTpBmfLPrHLLfLsbhRqbzRRcRHgqssR</td></tr><tr><td>8</td><td>dfdNLmPTdNZmZdZPfpmTJLPPSvQjtSGVwQSDJSjSwDQBVCGw</td></tr><tr><td>9</td><td>wZWTWNFqzwZbWNpSgGMVMtTHsgGs</td></tr><tr><td>10</td><td>nlnPnPvLQjzdtsjBHBMMGSHg</td></tr><tr><td>11</td><td>LdnrrLnhRdLLmLDRPvmdQnJDJWNqcCqZJZqfFqfcfzcq</td></tr><tr><td>12</td><td>vPTbfWggzvGVqjsVqV</td></tr><tr><td>13</td><td>dDcJHZcZHmMFQQMshsjcRqVChjNtqh</td></tr><tr><td>14</td><td>dDHJDmFnrJmQFnBdMdQHJdZZlWTTPPjTLWbTzLWlTTfwjzBT</td></tr><tr><td>15</td><td>VfmDHDfZzfLcZLLLHBFQtRJTcdjgdTgFjjtR</td></tr><tr><td>16</td><td>WRPhMlGSshPRGgvFMtddTjjCQt</td></tr><tr><td>17</td><td>SPhWPsbNWShsWllswGpzLmzfZwmZfqLVRrDBZB</td></tr><tr><td>18</td><td>MtZgRgJJbbGjgDDgbjRjRbGcNdWwncBFdLBBMhFBQwnWnw</td></tr><tr><td>19</td><td>vlpsNVsCzzfHpvTpzlSSSvppcQdfnwnWhndWndwfQLhnhcFQ</td></tr><tr><td colspan=\"2\"><i>(280 more)</i></td></tr></tbody></table><style>\r\n",
       ".dni-code-hint {\r\n",
       "    font-style: italic;\r\n",
       "    overflow: hidden;\r\n",
       "    white-space: nowrap;\r\n",
       "}\r\n",
       ".dni-treeview {\r\n",
       "    white-space: nowrap;\r\n",
       "}\r\n",
       ".dni-treeview td {\r\n",
       "    vertical-align: top;\r\n",
       "    text-align: start;\r\n",
       "}\r\n",
       "details.dni-treeview {\r\n",
       "    padding-left: 1em;\r\n",
       "}\r\n",
       "table td {\r\n",
       "    text-align: start;\r\n",
       "}\r\n",
       "table tr { \r\n",
       "    vertical-align: top; \r\n",
       "    margin: 0em 0px;\r\n",
       "}\r\n",
       "table tr td pre \r\n",
       "{ \r\n",
       "    vertical-align: top !important; \r\n",
       "    margin: 0em 0px !important;\r\n",
       "} \r\n",
       "table th {\r\n",
       "    text-align: start;\r\n",
       "}\r\n",
       "</style>"
      ]
     },
     "metadata": {},
     "output_type": "display_data"
    }
   ],
   "source": [
    "#r \"aoc/bin/Debug/net7.0/aoc.dll\" \n",
    "\n",
    "open aoc.utils\n",
    "\n",
    "let input = readAllLines \"day3\"\n",
    "\n",
    "input"
   ]
  },
  {
   "cell_type": "code",
   "execution_count": 2,
   "metadata": {
    "dotnet_interactive": {
     "language": "fsharp"
    },
    "polyglot_notebook": {
     "kernelName": "fsharp"
    }
   },
   "outputs": [],
   "source": [
    "let charScore c = \n",
    "    if Char.IsLower(c) then\n",
    "        int c - int 'a' + 1\n",
    "    else\n",
    "        int c - int 'A' + 27\n",
    "\n",
    "        "
   ]
  },
  {
   "cell_type": "code",
   "execution_count": 51,
   "metadata": {
    "dotnet_interactive": {
     "language": "fsharp"
    },
    "polyglot_notebook": {
     "kernelName": "fsharp"
    }
   },
   "outputs": [
    {
     "ename": "Error",
     "evalue": "System.InvalidOperationException: The input list was empty.\n   at Microsoft.FSharp.Collections.FSharpList`1.get_Head() in D:\\a\\_work\\1\\s\\src\\FSharp.Core\\prim-types.fs:line 4072\n   at FSI_0061.duplicates(FSharpList`1 charList)\n   at <StartupCode$FSI_0095>.$FSI_0095.main@()\n   at System.RuntimeMethodHandle.InvokeMethod(Object target, Void** arguments, Signature sig, Boolean isConstructor)\n   at System.Reflection.MethodInvoker.Invoke(Object obj, IntPtr* args, BindingFlags invokeAttr)",
     "output_type": "error",
     "traceback": [
      "System.InvalidOperationException: The input list was empty.\n",
      "   at Microsoft.FSharp.Collections.FSharpList`1.get_Head() in D:\\a\\_work\\1\\s\\src\\FSharp.Core\\prim-types.fs:line 4072\n",
      "   at FSI_0061.duplicates(FSharpList`1 charList)\n",
      "   at <StartupCode$FSI_0095>.$FSI_0095.main@()\n",
      "   at System.RuntimeMethodHandle.InvokeMethod(Object target, Void** arguments, Signature sig, Boolean isConstructor)\n",
      "   at System.Reflection.MethodInvoker.Invoke(Object obj, IntPtr* args, BindingFlags invokeAttr)"
     ]
    }
   ],
   "source": [
    "let duplicates (charList: list<list<char>>) =\n",
    "    match charList with\n",
    "    | head::snd::tail -> duplicates ((Set.intersect (set head) (set snd) |> Seq.toList) :: tail)\n",
    "    | lst when lst.Length = 2 -> Set.intersect (set lst[0]) (set lst[1]) |> Seq.toList\n",
    "    | _ -> []    \n",
    "\n",
    "\n",
    "duplicates [['a'; 'b'];['a';'p']]//['a'; 'y']] "
   ]
  },
  {
   "cell_type": "code",
   "execution_count": 32,
   "metadata": {
    "dotnet_interactive": {
     "language": "fsharp"
    },
    "polyglot_notebook": {
     "kernelName": "fsharp"
    }
   },
   "outputs": [
    {
     "ename": "Error",
     "evalue": "System.ArgumentException: The index was outside the range of elements in the list. (Parameter 'n')\n   at Microsoft.FSharp.Collections.PrivateListHelpers.nth[a](FSharpList`1 l, Int32 n) in D:\\a\\_work\\1\\s\\src\\FSharp.Core\\prim-types.fs:line 4026\n   at FSI_0026.duplicates(FSharpList`1 charList)\n   at FSI_0069.partA@12-19.Invoke(FSharpList`1 charList)\n   at Microsoft.FSharp.Primitives.Basics.List.map[T,TResult](FSharpFunc`2 mapping, FSharpList`1 x) in D:\\a\\_work\\1\\s\\src\\FSharp.Core\\local.fs:line 247\n   at <StartupCode$FSI_0069>.$FSI_0069.main@()\n   at System.RuntimeMethodHandle.InvokeMethod(Object target, Void** arguments, Signature sig, Boolean isConstructor)\n   at System.Reflection.MethodInvoker.Invoke(Object obj, IntPtr* args, BindingFlags invokeAttr)",
     "output_type": "error",
     "traceback": [
      "System.ArgumentException: The index was outside the range of elements in the list. (Parameter 'n')\n",
      "   at Microsoft.FSharp.Collections.PrivateListHelpers.nth[a](FSharpList`1 l, Int32 n) in D:\\a\\_work\\1\\s\\src\\FSharp.Core\\prim-types.fs:line 4026\n",
      "   at FSI_0026.duplicates(FSharpList`1 charList)\n",
      "   at FSI_0069.partA@12-19.Invoke(FSharpList`1 charList)\n",
      "   at Microsoft.FSharp.Primitives.Basics.List.map[T,TResult](FSharpFunc`2 mapping, FSharpList`1 x) in D:\\a\\_work\\1\\s\\src\\FSharp.Core\\local.fs:line 247\n",
      "   at <StartupCode$FSI_0069>.$FSI_0069.main@()\n",
      "   at System.RuntimeMethodHandle.InvokeMethod(Object target, Void** arguments, Signature sig, Boolean isConstructor)\n",
      "   at System.Reflection.MethodInvoker.Invoke(Object obj, IntPtr* args, BindingFlags invokeAttr)"
     ]
    }
   ],
   "source": [
    "let testInput = split \"\\n\" \"\"\"vJrwpWtwJgWrhcsFMMfFFhFp\n",
    "jqHRNqRjqzjGDLGLrsFMfFZSrLrFZsSL\n",
    "PmmdzqPrVvPwwTWBwg\n",
    "wMqvLMZHhHMvwLHjbvcjnnSBnvTQFn\n",
    "ttgJtRGJQctTZtZT\n",
    "CrZsJsPPZsGzwwsLwLmpwMDw\"\"\"\n",
    "\n",
    "let partA =\n",
    "    input \n",
    "    |> Array.toList\n",
    "    |> List.map (Seq.toList >> List.splitInto 2)\n",
    "    |> List.map duplicates\n",
    "    |> List.collect id\n",
    "    |> List.map charScore\n",
    "    |> List.reduce (+)\n",
    "\n",
    "partA"
   ]
  },
  {
   "cell_type": "code",
   "execution_count": 6,
   "metadata": {
    "dotnet_interactive": {
     "language": "fsharp"
    },
    "polyglot_notebook": {
     "kernelName": "fsharp"
    }
   },
   "outputs": [
    {
     "name": "stdout",
     "output_type": "stream",
     "text": [
      "['c'; 'w'; 's'; 'T'; 'r'; 'Z'; 'M'; 'H'; 'J'; 'T'; 'j'; 'D'; 'v'; 'c'; 'B'; 'c';\n",
      " 'M'; 'w'; 'M'; 'f'; 'P'; 'G'; 'R'; 'w'; 'd'; 'g'; 'L'; 'C'; 'c'; 'p'; 'G'; 'v';\n",
      " 'w'; 'R'; 'C'; 'j'; 'c'; 'G'; 'p'; 'c'; 'C'; 'm'; 'W'; 'T'; 'n'; 'S'; 'q'; 'b';\n",
      " 'F'; 'd'; 'V'; 'M'; 'd'; 'F'; 'g'; 'b'; 'd'; 'T'; 'p'; 'b'; 'T'; 'M'; 'H'; 'm';\n",
      " 'f'; 'T'; 'c'; 'R'; 'B'; 't'; 'f'; 'z'; 'P'; 'J'; 'b'; 't'; 'h'; 'H'; 'j'; 'f';\n",
      " 'H'; 'T'; 'H'; 'M'; 'W'; 'h'; 'm'; 'T'; 't'; 'c'; 'M'; 'v'; 'r'; 'P'; 'r'; 'B';\n",
      " 'V'; 'v'; 'T'; 'G'; ...]\n"
     ]
    }
   ],
   "source": [
    "printfn \"%A\" res"
   ]
  },
  {
   "cell_type": "code",
   "execution_count": 31,
   "metadata": {
    "dotnet_interactive": {
     "language": "fsharp"
    },
    "polyglot_notebook": {
     "kernelName": "fsharp"
    }
   },
   "outputs": [
    {
     "data": {
      "text/html": [
       "<div class=\"dni-plaintext\"><pre>2881</pre></div><style>\r\n",
       ".dni-code-hint {\r\n",
       "    font-style: italic;\r\n",
       "    overflow: hidden;\r\n",
       "    white-space: nowrap;\r\n",
       "}\r\n",
       ".dni-treeview {\r\n",
       "    white-space: nowrap;\r\n",
       "}\r\n",
       ".dni-treeview td {\r\n",
       "    vertical-align: top;\r\n",
       "    text-align: start;\r\n",
       "}\r\n",
       "details.dni-treeview {\r\n",
       "    padding-left: 1em;\r\n",
       "}\r\n",
       "table td {\r\n",
       "    text-align: start;\r\n",
       "}\r\n",
       "table tr { \r\n",
       "    vertical-align: top; \r\n",
       "    margin: 0em 0px;\r\n",
       "}\r\n",
       "table tr td pre \r\n",
       "{ \r\n",
       "    vertical-align: top !important; \r\n",
       "    margin: 0em 0px !important;\r\n",
       "} \r\n",
       "table th {\r\n",
       "    text-align: start;\r\n",
       "}\r\n",
       "</style>"
      ]
     },
     "metadata": {},
     "output_type": "display_data"
    }
   ],
   "source": [
    "input\n",
    "|> Array.toList\n",
    "|> List.map (Seq.toList)\n",
    "|> List.chunkBySize 3\n",
    "|> List.map duplicates\n",
    "|> List.collect id\n",
    "|> List.map charScore\n",
    "|> List.reduce (+)"
   ]
  },
  {
   "cell_type": "code",
   "execution_count": null,
   "metadata": {
    "dotnet_interactive": {
     "language": "fsharp"
    },
    "polyglot_notebook": {
     "kernelName": "fsharp"
    }
   },
   "outputs": [],
   "source": []
  }
 ],
 "metadata": {
  "kernelspec": {
   "display_name": ".NET (F#)",
   "language": "F#",
   "name": ".net-fsharp"
  },
  "polyglot_notebook": {
   "kernelInfo": {
    "defaultKernelName": "fsharp",
    "items": [
     {
      "aliases": [
       "f#",
       "F#"
      ],
      "languageName": "F#",
      "name": "fsharp"
     },
     {
      "aliases": [
       "frontend"
      ],
      "name": "vscode"
     },
     {
      "aliases": [
       "js"
      ],
      "languageName": "JavaScript",
      "name": "javascript"
     },
     {
      "aliases": [],
      "name": "webview"
     }
    ]
   }
  }
 },
 "nbformat": 4,
 "nbformat_minor": 2
}
