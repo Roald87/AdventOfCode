{
 "cells": [
  {
   "cell_type": "code",
   "execution_count": null,
   "metadata": {
    "dotnet_interactive": {
     "language": "fsharp"
    },
    "polyglot_notebook": {
     "kernelName": "fsharp"
    }
   },
   "outputs": [],
   "source": [
    "#r \"aoc/bin/Debug/net7.0/aoc.dll\" \n",
    "\n",
    "open aoc.utils\n",
    "\n",
    "let input = readAllLines \"day2\"\n",
    "\n",
    "printfn \"%A\" input"
   ]
  },
  {
   "cell_type": "code",
   "execution_count": null,
   "metadata": {
    "dotnet_interactive": {
     "language": "fsharp"
    },
    "polyglot_notebook": {
     "kernelName": "fsharp"
    }
   },
   "outputs": [],
   "source": [
    "type Shape = Rock | Paper | Scissors\n",
    "type Outcome = Win | Draw | Lose\n",
    "\n",
    "type MyShape = Shape\n",
    "type HisShape = Shape\n",
    "\n",
    "type AnyShape = MyShape | HisShape | Shape\n",
    "\n",
    "let toHisShape str : HisShape =\n",
    "    match str with\n",
    "    | \"A\" -> Rock\n",
    "    | \"B\" -> Paper\n",
    "    | \"C\" -> Scissors\n",
    "    | _ -> (failwith $\"Invalid input {str}\")\n",
    "\n",
    "let toMyShape str : MyShape = \n",
    "    match str with\n",
    "    | \"X\" -> Rock\n",
    "    | \"Y\" -> Paper\n",
    "    | \"Z\" -> Scissors\n",
    "    | _ -> (failwith $\"Invalid input {str}\")\n",
    "\n",
    "\n",
    "let round (plays: array<string>) =\n",
    "    (toHisShape plays[0], toMyShape plays[1])\n",
    "\n",
    "let outcome (round: HisShape * MyShape) =\n",
    "    match round with\n",
    "    | Rock, Paper -> Win\n",
    "    | Paper, Rock -> Lose\n",
    "    | Rock, Scissors -> Lose\n",
    "    | Scissors, Rock -> Win\n",
    "    | Paper, Scissors -> Win\n",
    "    | Scissors, Paper -> Lose\n",
    "    | _ -> Draw\n",
    "\n",
    "let shapeScore (shape: Shape) =\n",
    "    match shape with \n",
    "    | Rock -> 1\n",
    "    | Paper -> 2\n",
    "    | Scissors -> 3\n",
    "\n",
    "let outcomeScore outcome =\n",
    "    match outcome with \n",
    "    | Win -> 6\n",
    "    | Draw -> 3\n",
    "    | Lose -> 0"
   ]
  },
  {
   "cell_type": "code",
   "execution_count": null,
   "metadata": {
    "dotnet_interactive": {
     "language": "fsharp"
    },
    "polyglot_notebook": {
     "kernelName": "fsharp"
    }
   },
   "outputs": [],
   "source": [
    "let testInput = \n",
    "    \"\"\"A Y\n",
    "    B X\n",
    "    C Z\"\"\"\n",
    "    |> split \"\\n\"\n",
    "    |> Array.map trim\n",
    "\n",
    "let toShapes = \n",
    "    Array.map (split \" \")\n",
    "    >> Array.map round\n",
    "\n",
    "let winScore shapes =\n",
    "    shapes\n",
    "    |> Array.map outcome\n",
    "    |> Array.map outcomeScore\n",
    "    |> Array.reduce (+)\n",
    "\n",
    "//let shapeScore (shapes: array<(Shape * Shape)>) =\n",
    "let shapeScore shapes =\n",
    "    shapes \n",
    "    |> Array.map snd\n",
    "    |> Array.map shapeScore\n",
    "    |> Array.reduce (+)\n",
    "\n",
    "let game = \n",
    "    readAllLines \"day2\"\n",
    "    |> toShapes \n",
    "\n",
    "(shapeScore game) + (winScore game)"
   ]
  },
  {
   "cell_type": "code",
   "execution_count": null,
   "metadata": {
    "dotnet_interactive": {
     "language": "fsharp"
    },
    "polyglot_notebook": {
     "kernelName": "fsharp"
    }
   },
   "outputs": [],
   "source": [
    "let roundOutcome str =\n",
    "    match str with \n",
    "    | \"X\" -> Lose\n",
    "    | \"Y\" -> Draw\n",
    "    | \"Z\" -> Win\n",
    "    | _ -> failwith $\"Invalid round result {str}\"\n",
    "\n",
    "let myPick (hisPick: HisShape) (roundResult: Outcome) =\n",
    "    match (hisPick, roundResult) with\n",
    "    | Rock, Win -> Paper\n",
    "    | Rock, Lose -> Scissors \n",
    "    | Paper, Win -> Scissors\n",
    "    | Paper, Lose -> Rock\n",
    "    | Scissors, Win -> Rock\n",
    "    | Scissors, Lose -> Paper\n",
    "    | _ -> hisPick\n",
    "\n"
   ]
  },
  {
   "cell_type": "code",
   "execution_count": null,
   "metadata": {
    "dotnet_interactive": {
     "language": "fsharp"
    },
    "polyglot_notebook": {
     "kernelName": "fsharp"
    }
   },
   "outputs": [],
   "source": [
    "let partBgame =\n",
    "    input \n",
    "    |> Array.map (split \" \")\n",
    "    |> Array.map (fun xs -> toHisShape xs[0], roundOutcome xs[1])\n",
    "    |> Array.map (fun (his, res) -> his, (myPick his res))\n",
    "\n",
    "\n",
    "(shapeScore partBgame) + (winScore partBgame)"
   ]
  },
  {
   "cell_type": "code",
   "execution_count": null,
   "metadata": {
    "dotnet_interactive": {
     "language": "fsharp"
    },
    "polyglot_notebook": {
     "kernelName": "fsharp"
    }
   },
   "outputs": [],
   "source": []
  }
 ],
 "metadata": {
  "kernelspec": {
   "display_name": ".NET (C#)",
   "language": "C#",
   "name": ".net-csharp"
  },
  "polyglot_notebook": {
   "kernelInfo": {
    "defaultKernelName": "csharp",
    "items": [
     {
      "aliases": [],
      "name": "csharp"
     },
     {
      "aliases": [],
      "languageName": null,
      "name": ".NET"
     },
     {
      "aliases": [
       "frontend"
      ],
      "languageName": null,
      "name": "vscode"
     }
    ]
   }
  }
 },
 "nbformat": 4,
 "nbformat_minor": 2
}
