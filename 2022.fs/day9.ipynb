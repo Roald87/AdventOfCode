{
 "cells": [
  {
   "cell_type": "code",
   "execution_count": null,
   "metadata": {
    "dotnet_interactive": {
     "language": "fsharp"
    },
    "polyglot_notebook": {
     "kernelName": "fsharp"
    }
   },
   "outputs": [],
   "source": [
    "#r \"aoc/bin/Debug/net7.0/aoc.dll\" \n",
    "\n",
    "open aoc.utils\n",
    "\n",
    "let test = \"\"\"R 4\n",
    "U 4\n",
    "L 3\n",
    "D 1\n",
    "R 4\n",
    "D 1\n",
    "L 5\n",
    "R 2\"\"\"\n",
    "\n",
    "let convert =\n",
    "    Array.map (split \" \")\n",
    "    >> Array.map (fun x -> (x[0], (int x[1])))\n",
    "\n",
    "let testInput = \n",
    "    split \"\\n\" test\n",
    "    |> Array.map (split \" \")\n",
    "    |> Array.map (fun x -> (x[0], (int x[1])))\n",
    "\n",
    "let realInput =\n",
    "    readAllLines \"day9\"\n",
    "    |> convert\n",
    "\n",
    "printfn \"%A\" testInput\n"
   ]
  },
  {
   "cell_type": "code",
   "execution_count": null,
   "metadata": {
    "dotnet_interactive": {
     "language": "fsharp"
    },
    "polyglot_notebook": {
     "kernelName": "fsharp"
    }
   },
   "outputs": [],
   "source": [
    "type Position = int * int\n",
    "\n",
    "let tailPositionCorrect (head: Position) (tail:Position) = \n",
    "    let hx, hy = head\n",
    "    let tx, ty = tail\n",
    "\n",
    "    abs(hx - tx) > 1 || abs(hy - ty) > 1 \n",
    "\n",
    "let updateTailPosition (head: Position) (tail:Position) = \n",
    "    let hx, hy = head\n",
    "    let tx, ty = tail\n",
    "\n",
    "    if abs(hx - tx) > 1 then\n",
    "        ((tx + (hx - tx)/2, ty + (hy - ty)))\n",
    "    elif abs(hy - ty) > 1 then\n",
    "        // move diag\n",
    "        ((tx + (hx - tx), ty + (hy - ty)/2))\n",
    "    elif hx = tx then\n",
    "        // move vertical\n",
    "        (tx, ty + (hy - ty)/2)\n",
    "    elif hy = ty then   \n",
    "        // move horizontal \n",
    "        (tx + (hx - tx)/2, ty)\n",
    "    else \n",
    "        (tail)\n",
    "\n",
    "updateTailPosition (1, 1) (0, 4)\n"
   ]
  },
  {
   "cell_type": "code",
   "execution_count": null,
   "metadata": {
    "dotnet_interactive": {
     "language": "fsharp"
    },
    "polyglot_notebook": {
     "kernelName": "fsharp"
    }
   },
   "outputs": [],
   "source": [
    "let initialPositionHead = (0, 0)\n",
    "let initialPositionTail = (0, 0)\n",
    "let visitedPositionsTail = Set\n",
    "\n",
    "let currentPositionTail = initialPositionTail\n",
    "\n",
    "let move (head: Position) (tail: Position) (direction: string) =\n",
    "    let hx, hy = head\n",
    "    let tx, ty = tail\n",
    "\n",
    "    let newHead =\n",
    "        match direction with\n",
    "        | \"U\" -> (hx, hy+1)\n",
    "        | \"D\" -> (hx, hy-1)\n",
    "        | \"L\" -> (hx-1, hy)\n",
    "        | \"R\" -> (hx+1, hy)\n",
    "        | _ -> failwith $\"Unrecognized direction {direction}\"\n",
    "    \n",
    "    let newTail = updateTailPosition newHead tail\n",
    "    //printfn \"%A\" (newHead, newTail)\n",
    "\n",
    "    (newHead, newTail)\n",
    "\n",
    "let tailPos directions =\n",
    "    let dirs = \n",
    "        directions\n",
    "        |> Seq.map (fun (dir, n) -> [for _ in 0..n-1 -> dir]) \n",
    "        |> Seq.collect id\n",
    "\n",
    "    let mutable h = (0, 0)\n",
    "    let mutable t = (0, 0)\n",
    "    let mutable ts = Set.empty\n",
    "    for direction in dirs do\n",
    "        let pos = move h t direction\n",
    "        h <- fst pos\n",
    "        t <- snd pos\n",
    "        //printfn \"%A\" pos\n",
    "        ts <- Set.add t ts \n",
    "\n",
    "    ts |> Set.count \n",
    "\n",
    "tailPos realInput\n",
    "\n"
   ]
  },
  {
   "cell_type": "code",
   "execution_count": null,
   "metadata": {
    "dotnet_interactive": {
     "language": "fsharp"
    },
    "polyglot_notebook": {
     "kernelName": "fsharp"
    }
   },
   "outputs": [],
   "source": [
    "let test2 = \"\"\"R 5\n",
    "U 8\n",
    "L 8\n",
    "D 3\n",
    "R 17\n",
    "D 10\n",
    "L 25\n",
    "U 20\"\"\"\n",
    "\n",
    "let testInput2 = split \"\\n\" test2 |> convert\n",
    "\n",
    "let move2 (snake: list<Position>) (direction: string) =\n",
    "    let hx, hy = snake.Head\n",
    "\n",
    "    let newHead =\n",
    "        match direction with\n",
    "        | \"U\" -> (hx, hy+1)\n",
    "        | \"D\" -> (hx, hy-1)\n",
    "        | \"L\" -> (hx-1, hy)\n",
    "        | \"R\" -> (hx+1, hy)\n",
    "        | _ -> failwith $\"Unrecognized direction {direction}\"\n",
    "\n",
    "(*    newHead::snake.Tail\n",
    "    |> List.pairwise \n",
    "    |> List.filter (fun (p, n) -> (p |> fst)  <> 0) \n",
    "    |> List.iter (printfn \"%A\")\n",
    "*)\n",
    "    let newTail = \n",
    "        let rec updateSnake snakeAcc oldSnake =\n",
    "            match oldSnake with\n",
    "            | [oldHead] -> snakeAcc\n",
    "            | oldHead::oldTail -> updateSnake (snakeAcc@[updateTailPosition (snakeAcc |> List.last) oldHead]) oldTail\n",
    "            | _ -> failwith \"Shouldnt reach this case\"\n",
    "\n",
    "        updateSnake [newHead] snake\n",
    "\n",
    "    newTail\n",
    "\n",
    "\n",
    "let tailPos2 directions =\n",
    "    let dirs = \n",
    "        directions\n",
    "        |> Seq.map (fun (dir, n) -> [for _ in 0..n-1 -> dir]) \n",
    "        |> Seq.collect id\n",
    "    \n",
    "    let mutable snake = [for i in 1..9 -> (0,0)]\n",
    "    let mutable ts = Set.empty\n",
    "\n",
    "    for direction in dirs do\n",
    "        snake <- move2 snake direction\n",
    "        printfn \"%A\" snake\n",
    "        ts <- Set.add (snake |> List.last) ts \n",
    "\n",
    "    printfn \"%A\" ts\n",
    "    ts |> Set.count \n",
    "(*\n",
    "let convInput =\n",
    "    Seq.map (fun (dir, n) -> [for _ in 0..n-1 -> dir]) \n",
    "    >> Seq.collect id*)\n",
    "\n",
    "tailPos2 testInput2//(testInput2 |> Array.take 2)"
   ]
  },
  {
   "cell_type": "code",
   "execution_count": null,
   "metadata": {
    "dotnet_interactive": {
     "language": "fsharp"
    },
    "polyglot_notebook": {
     "kernelName": "fsharp"
    }
   },
   "outputs": [],
   "source": [
    "testInput2"
   ]
  },
  {
   "cell_type": "code",
   "execution_count": 1,
   "metadata": {
    "dotnet_interactive": {
     "language": "fsharp"
    },
    "polyglot_notebook": {
     "kernelName": "fsharp"
    }
   },
   "outputs": [
    {
     "data": {
      "text/html": [
       "<table><thead><tr><th>Item1</th><th>Item2</th></tr></thead><tbody><tr><td><div class=\"dni-plaintext\"><pre>0</pre></div></td><td><div class=\"dni-plaintext\"><pre>1</pre></div></td></tr></tbody></table>"
      ]
     },
     "metadata": {},
     "output_type": "display_data"
    }
   ],
   "source": [
    "[(0,1)] |> List.last"
   ]
  },
  {
   "cell_type": "code",
   "execution_count": null,
   "metadata": {
    "dotnet_interactive": {
     "language": "fsharp"
    },
    "polyglot_notebook": {
     "kernelName": "fsharp"
    }
   },
   "outputs": [],
   "source": []
  }
 ],
 "metadata": {
  "kernelspec": {
   "display_name": ".NET (C#)",
   "language": "C#",
   "name": ".net-csharp"
  },
  "polyglot_notebook": {
   "kernelInfo": {
    "defaultKernelName": "csharp",
    "items": [
     {
      "aliases": [
       "c#",
       "C#"
      ],
      "languageName": "C#",
      "name": "csharp"
     },
     {
      "aliases": [],
      "languageName": null,
      "name": ".NET"
     },
     {
      "aliases": [],
      "languageName": "Mermaid",
      "name": "mermaid"
     },
     {
      "aliases": [
       "f#",
       "F#"
      ],
      "languageName": "F#",
      "name": "fsharp"
     },
     {
      "aliases": [],
      "languageName": "HTML",
      "name": "html"
     },
     {
      "aliases": [
       "js"
      ],
      "languageName": "JavaScript",
      "name": "javascript"
     },
     {
      "aliases": [],
      "languageName": "KQL",
      "name": "kql"
     },
     {
      "aliases": [
       "powershell"
      ],
      "languageName": "PowerShell",
      "name": "pwsh"
     },
     {
      "aliases": [],
      "languageName": "SQL",
      "name": "sql"
     },
     {
      "aliases": [],
      "name": "value"
     },
     {
      "aliases": [
       "frontend"
      ],
      "languageName": null,
      "name": "vscode"
     },
     {
      "aliases": [],
      "name": "webview"
     }
    ]
   }
  }
 },
 "nbformat": 4,
 "nbformat_minor": 2
}
