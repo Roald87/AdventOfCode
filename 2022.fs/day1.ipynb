{
 "cells": [
  {
   "cell_type": "code",
   "execution_count": null,
   "metadata": {
    "dotnet_interactive": {
     "language": "fsharp"
    },
    "polyglot_notebook": {
     "kernelName": "fsharp"
    }
   },
   "outputs": [],
   "source": [
    "open System\n",
    "open System.IO\n",
    "#r \"aoc/bin/Debug/net7.0/aoc.dll\" \n",
    "\n",
    "let tryInt intStr =\n",
    "    match intStr with \n",
    "    | \"\" -> None\n",
    "    | _ -> Some(intStr |> int)\n",
    "\n",
    "let splitAt pred xs =\n",
    "    if Seq.isEmpty xs then\n",
    "        []\n",
    "    else\n",
    "        xs\n",
    "        |> Seq.pairwise\n",
    "        |> Seq.fold (fun (curr :: rest as lists) (i, j) -> if pred i j then [j] :: lists else (curr @ [j]) :: rest) [[Seq.head xs]]\n",
    "\n",
    "let isNone i (j: Option<int>) = j.IsNone\n",
    "\n",
    "let totalCalories fname =\n",
    "    File.ReadAllLines(fname)\n",
    "    |> Array.map tryInt\n",
    "    |> splitAt isNone\n",
    "    |> List.map (List.choose id)\n",
    "    |> List.tail\n",
    "    |> List.map (List.reduce (+))\n",
    "\n",
    "let partA fname = \n",
    "    totalCalories fname\n",
    "    |> List.max\n",
    " \n",
    "printfn \"%A\" (partA \"day1\")"
   ]
  },
  {
   "cell_type": "code",
   "execution_count": null,
   "metadata": {
    "dotnet_interactive": {
     "language": "fsharp"
    },
    "polyglot_notebook": {
     "kernelName": "fsharp"
    }
   },
   "outputs": [],
   "source": [
    "let partB fname =\n",
    "    totalCalories fname\n",
    "    |> List.sortDescending\n",
    "    |> List.take 3\n",
    "    |> List.reduce (+)\n",
    "\n",
    "printfn \"%A\" (partB \"day1\")"
   ]
  },
  {
   "cell_type": "code",
   "execution_count": null,
   "metadata": {
    "dotnet_interactive": {
     "language": "fsharp"
    },
    "polyglot_notebook": {
     "kernelName": "fsharp"
    }
   },
   "outputs": [],
   "source": []
  }
 ],
 "metadata": {
  "kernelspec": {
   "display_name": ".NET (C#)",
   "language": "C#",
   "name": ".net-csharp"
  },
  "polyglot_notebook": {
   "kernelInfo": {
    "defaultKernelName": "csharp",
    "items": [
     {
      "aliases": [],
      "name": "csharp"
     },
     {
      "aliases": [
       "frontend"
      ],
      "name": "vscode"
     }
    ]
   }
  }
 },
 "nbformat": 4,
 "nbformat_minor": 2
}
