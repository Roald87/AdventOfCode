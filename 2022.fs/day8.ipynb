{
 "cells": [
  {
   "cell_type": "code",
   "execution_count": null,
   "metadata": {
    "dotnet_interactive": {
     "language": "fsharp"
    },
    "polyglot_notebook": {
     "kernelName": "fsharp"
    }
   },
   "outputs": [],
   "source": [
    "#r \"aoc/bin/Debug/net7.0/aoc.dll\" \n",
    "\n",
    "open aoc.utils\n",
    "\n",
    "let testInput = \n",
    "    split \"\\n\" \"\"\"30373\n",
    "    25512\n",
    "    65332\n",
    "    33549\n",
    "    35390\"\"\" \n",
    "    |> Array.map trim\n",
    "    |> Array.map Seq.toArray\n",
    " \n",
    "let realInput = \n",
    "    readAllLines \"day8\"\n",
    "    |> Array.map Seq.toArray\n",
    "\n"
   ]
  },
  {
   "cell_type": "code",
   "execution_count": null,
   "metadata": {
    "dotnet_interactive": {
     "language": "fsharp"
    },
    "polyglot_notebook": {
     "kernelName": "fsharp"
    }
   },
   "outputs": [],
   "source": [
    "let idxOfElementsWhichCanBeSeenFromOneSide (arr:array<'a>): list<int> =\n",
    "    arr \n",
    "    |> Array.map (fun x -> x.ToString())\n",
    "    |> Array.mapi (fun i x -> ([i], x))\n",
    "    |> Array.reduce (fun (i, acc) (j, b) -> if b > acc then (i@j, b) else (i, acc))\n",
    "    |> fst\n",
    "\n",
    "\n",
    "let howManyElementsCanBeSeen (arr: array<array<char>>) = \n",
    "    let left =\n",
    "        Array.mapi (fun r arr -> r, idxOfElementsWhichCanBeSeenFromOneSide arr)\n",
    "        >> Array.map (fun (r, cols) -> [|for col in cols do (r, col)|])\n",
    "        >> Array.collect id\n",
    "        >> Set\n",
    "\n",
    "    let right (arr: array<array<char>>) = \n",
    "        let width = arr.Length - 1\n",
    "\n",
    "        arr\n",
    "        |> Array.map (Array.rev)\n",
    "        |> left\n",
    "        |> Set.map (fun (i,j) -> (i, width - j))\n",
    "\n",
    "    let top = \n",
    "        transpose\n",
    "        >> left\n",
    "        >> Set.map (fun (i, j) -> (j, i))\n",
    "\n",
    "    let bottom (arr: array<array<char>>) = \n",
    "        let heigth = arr[0].Length - 1\n",
    "\n",
    "        arr\n",
    "        |> transpose \n",
    "        |> Array.map (Array.rev)\n",
    "        |> left\n",
    "        |> Set.map (fun (i, j) -> (heigth - j, i))\n",
    "    \n",
    "\n",
    "    (* Debug\n",
    "    [\n",
    "        (left arr) \n",
    "        //(right arr)\n",
    "        //(top arr)\n",
    "        //(bottom arr)\n",
    "    ]\n",
    "    |> Set.unionMany\n",
    "    |> Set.filter (fun (i, j) -> (i <> 0 && j <> 0) && (i <> 4 && j <> 4))\n",
    "    |> Set.iter (printfn \"%A\")\n",
    "    |> ignore\n",
    "    *)\n",
    "\n",
    "    [(left arr); (right arr); (top arr); (bottom arr)]\n",
    "    |> Set.unionMany \n",
    "    |> Set.count\n",
    "\n",
    "howManyElementsCanBeSeen realInput\n"
   ]
  },
  {
   "cell_type": "code",
   "execution_count": null,
   "metadata": {
    "dotnet_interactive": {
     "language": "fsharp"
    },
    "polyglot_notebook": {
     "kernelName": "fsharp"
    }
   },
   "outputs": [],
   "source": [
    "// part B, scenic score testInput = 8\n",
    "let testInput = \n",
    "    split \"\\n\" \"\"\"30373\n",
    "    25512\n",
    "    65332\n",
    "    33549\n",
    "    35390\"\"\" \n",
    "    |> Array.map trim\n",
    "    |> Array.map Seq.toArray\n",
    "\n",
    "let left (arr:array<array<char>>) (row:int, col:int) = \n",
    "    arr[row].[0..col] |> Array.rev\n",
    "let right (arr:array<array<char>>) (row:int, col: int)  = arr[row].[col ..]\n",
    "let top (arr:array<array<char>>) (row:int, col: int) = \n",
    "    let tarr = arr |> transpose\n",
    "    tarr[col].[0..row] |> Array.rev\n",
    "let bottom (arr:array<array<char>>) (row:int, col: int)  = \n",
    "    let tarr = arr |> transpose\n",
    "    tarr[col].[row..]\n",
    "\n",
    "let mapij = Array.mapi (fun i row -> (Array.mapi (fun j _ -> i, j) row))\n",
    "\n",
    "let view (arr:array<array<char>>) =\n",
    "    let width = arr.Length - 1\n",
    "\n",
    "    let trees side = \n",
    "        arr\n",
    "        |> mapij\n",
    "        |> Array.collect id\n",
    "        |> Array.filter (fun (r, c) -> r <> 0 && c <> 0 && r <> width && c <> width) \n",
    "        |> Array.map side\n",
    "        |> Array.map (fun y -> elementsWhichCanBeSeen y)\n",
    "        //|> Array.iter (printfn \"%A\")\n",
    "    \n",
    "    let allDirections = \n",
    "        [|\n",
    "            trees (left arr);\n",
    "            trees (right arr);\n",
    "            trees (bottom arr);\n",
    "            trees (top arr)\n",
    "        |]\n",
    "\n",
    "\n",
    "    allDirections\n",
    "    |> transpose\n",
    "    //|> Array.map (fun x -> (Array.map int) x)\n",
    "    |> Array.map (Array.reduce (*)) \n",
    "    |> Array.max\n",
    "\n",
    "printfn \"%A\" (view realInput)\n"
   ]
  },
  {
   "cell_type": "code",
   "execution_count": null,
   "metadata": {
    "dotnet_interactive": {
     "language": "fsharp"
    },
    "polyglot_notebook": {
     "kernelName": "fsharp"
    }
   },
   "outputs": [],
   "source": []
  }
 ],
 "metadata": {
  "kernelspec": {
   "display_name": ".NET (C#)",
   "language": "C#",
   "name": ".net-csharp"
  },
  "polyglot_notebook": {
   "kernelInfo": {
    "defaultKernelName": "csharp",
    "items": [
     {
      "aliases": [
       "c#",
       "C#"
      ],
      "languageName": "C#",
      "name": "csharp"
     },
     {
      "aliases": [],
      "name": ".NET"
     },
     {
      "aliases": [
       "f#",
       "F#"
      ],
      "languageName": "F#",
      "name": "fsharp"
     },
     {
      "aliases": [],
      "languageName": "HTML",
      "name": "html"
     },
     {
      "aliases": [
       "js"
      ],
      "languageName": "JavaScript",
      "name": "javascript"
     },
     {
      "aliases": [],
      "languageName": "KQL",
      "name": "kql"
     },
     {
      "aliases": [],
      "languageName": "Mermaid",
      "name": "mermaid"
     },
     {
      "aliases": [
       "powershell"
      ],
      "languageName": "PowerShell",
      "name": "pwsh"
     },
     {
      "aliases": [],
      "languageName": "SQL",
      "name": "sql"
     },
     {
      "aliases": [],
      "name": "value"
     },
     {
      "aliases": [
       "frontend"
      ],
      "name": "vscode"
     },
     {
      "aliases": [],
      "name": "webview"
     }
    ]
   }
  }
 },
 "nbformat": 4,
 "nbformat_minor": 2
}
