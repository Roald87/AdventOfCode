{
 "cells": [
  {
   "cell_type": "code",
   "execution_count": null,
   "metadata": {
    "dotnet_interactive": {
     "language": "fsharp"
    }
   },
   "outputs": [],
   "source": [
    "#r \"aoc/bin/Debug/net6.0/aoc.dll\" \n",
    "#r \"aoc.tests/bin/Debug/net6.0/FSharpx.Collections.dll\"\n",
    "\n",
    "open FSharpx.Collections\n",
    "open System.IO\n",
    "open System \n",
    "open System.Collections.Generic\n",
    "open aoc.Utilities"
   ]
  },
  {
   "cell_type": "code",
   "execution_count": null,
   "metadata": {
    "dotnet_interactive": {
     "language": "fsharp"
    }
   },
   "outputs": [],
   "source": [
    "let parseInput = \n",
    "    File.ReadLines\n",
    "        >> Seq.map (\n",
    "        stringToChars\n",
    "        >> Seq.map (fun x -> int (x) - int ('0'))\n",
    "    )\n",
    "    >> array2D\n"
   ]
  },
  {
   "cell_type": "code",
   "execution_count": null,
   "metadata": {
    "dotnet_interactive": {
     "language": "fsharp"
    }
   },
   "outputs": [
    {
     "name": "stdout",
     "output_type": "stream",
     "text": [
      "[[1; 1; 6; 3; 7; 5; 1; 7; 4; 2]\n",
      " [1; 3; 8; 1; 3; 7; 3; 6; 7; 2]\n",
      " [2; 1; 3; 6; 5; 1; 1; 3; 2; 8]\n",
      " [3; 6; 9; 4; 9; 3; 1; 5; 6; 9]\n",
      " [7; 4; 6; 3; 4; 1; 7; 1; 1; 1]\n",
      " [1; 3; 1; 9; 1; 2; 8; 1; 3; 7]\n",
      " [1; 3; 5; 9; 9; 1; 2; 4; 2; 1]\n",
      " [3; 1; 2; 5; 4; 2; 1; 6; 3; 9]\n",
      " [1; 2; 9; 3; 1; 3; 8; 5; 2; 1]\n",
      " [2; 3; 1; 1; 9; 4; 4; 5; 8; 1]]\n"
     ]
    }
   ],
   "source": [
    "let test = parseInput \"aoc.tests/assets/test15.txt\"\n",
    "let real = parseInput \"aoc.tests/assets/input15.txt\"\n",
    "\n",
    "printfn \"%A\" test\n",
    "\n",
    "\n",
    "// size real"
   ]
  },
  {
   "cell_type": "code",
   "execution_count": null,
   "metadata": {
    "dotnet_interactive": {
     "language": "fsharp"
    }
   },
   "outputs": [
    {
     "name": "stderr",
     "output_type": "stream",
     "text": [
      "Stopped due to error\n"
     ]
    },
    {
     "ename": "Error",
     "evalue": "input.fsx (33,22)-(33,30) typecheck error This expression was expected to have type\n    'int'    \nbut here has type\n    'Point'    \ninput.fsx (34,8)-(34,42) typecheck error Type mismatch. Expecting a\n    '(int * int -> (int * int) list) -> Point list'    \nbut given a\n    'Point list -> Point list'    \nThe type 'int * int -> (int * int) list' does not match the type 'Point list'\ninput.fsx (34,8)-(34,42) typecheck error Type mismatch. Expecting a\n    '(int * int -> (int * int) list) -> Point list'    \nbut given a\n    'Point list -> Point list'    \nThe type 'int * int -> (int * int) list' does not match the type 'Point list'\ninput.fsx (35,50)-(35,54) typecheck error The type 'Int32' does not define the field, constructor or member 'Item'.\ninput.fsx (43,33)-(43,44) typecheck error Lookup on object of indeterminate type based on information prior to this program point. A type annotation may be needed prior to this program point to constrain the type of the object. This may allow the lookup to be resolved.",
     "output_type": "error",
     "traceback": [
      "input.fsx (33,22)-(33,30) typecheck error This expression was expected to have type\n",
      "    'int'    \n",
      "but here has type\n",
      "    'Point'    \n",
      "input.fsx (34,8)-(34,42) typecheck error Type mismatch. Expecting a\n",
      "    '(int * int -> (int * int) list) -> Point list'    \n",
      "but given a\n",
      "    'Point list -> Point list'    \n",
      "The type 'int * int -> (int * int) list' does not match the type 'Point list'\n",
      "input.fsx (34,8)-(34,42) typecheck error Type mismatch. Expecting a\n",
      "    '(int * int -> (int * int) list) -> Point list'    \n",
      "but given a\n",
      "    'Point list -> Point list'    \n",
      "The type 'int * int -> (int * int) list' does not match the type 'Point list'\n",
      "input.fsx (35,50)-(35,54) typecheck error The type 'Int32' does not define the field, constructor or member 'Item'.\n",
      "input.fsx (43,33)-(43,44) typecheck error Lookup on object of indeterminate type based on information prior to this program point. A type annotation may be needed prior to this program point to constrain the type of the object. This may allow the lookup to be resolved."
     ]
    }
   ],
   "source": [
    "// Inspired by\n",
    "\n",
    "let parseInput =\n",
    "    File.ReadLines\n",
    "    >> Seq.map (\n",
    "        stringToChars\n",
    "        >> Seq.map (fun x -> int (x) - int ('0'))\n",
    "    )\n",
    "    >> array2D\n",
    "\n",
    "let selectNeighbours maxX maxY c =\n",
    "    let x, y = c\n",
    "\n",
    "    [   x - 1, y\n",
    "        x + 1, y\n",
    "        x, y - 1\n",
    "        x, y + 1 ]\n",
    "    |> List.filter (fun (x, y) -> (x >= 0 && x <= maxX && y >= 0 && y <= maxY))\n",
    "\n",
    "type Point = int * int\n",
    "type Cells = IDictionary<Point, int>\n",
    "\n",
    "type WeightedPoint = { risk : int; point : Point }\n",
    "type Seen = Point Set\n",
    "type Queue = Heap<WeightedPoint>\n",
    "\n",
    "let addToSeen (s:Seen) p = s.Add p.point\n",
    "let addToQueue (h:Queue) p = h.Insert p\n",
    "\n",
    "type num = int\n",
    "\n",
    "let calcVisit wp cells (seen:Point Set) =\n",
    "    selectNeighbours wp.point cells\n",
    "    |> List.filter (seen.Contains >> not)\n",
    "    |> List.map (fun p -> { risk=wp.risk + cells.Item p; point = p })\n",
    "\n",
    "let findPath start goal input =\n",
    "    let seen = Set [(0,0)]\n",
    "    let queue = Heap(false, 0, HeapData.E).Insert { risk=0; point=0,0 }\n",
    "    let rec loop (seen:Point Set) (queue:Heap<WeightedPoint>) =\n",
    "        let u = queue.Head\n",
    "        if u.point = start then u.risk else\n",
    "        let visit = calcVisit u input.cells seen\n",
    "        loop\n",
    "            (visit |> List.fold addToSeen seen)\n",
    "            (visit |> List.fold addToQueue (queue.Tail()))\n",
    "    loop seen queue\n",
    "\n",
    "let part1 fname =\n",
    "    let input = parseInput fname\n",
    "    findPath (0, 0) (99, 99) input\n",
    "\n",
    "findPath (0, 0) (99, 99) real\n"
   ]
  },
  {
   "cell_type": "code",
   "execution_count": null,
   "metadata": {
    "dotnet_interactive": {
     "language": "fsharp"
    }
   },
   "outputs": [
    {
     "data": {
      "text/html": [
       "<table><thead><tr><th>cells</th><th>goal</th><th>width</th><th>height</th></tr></thead><tbody><tr><td><div class=\"dni-plaintext\">[ { [(0, 0), 1]: Key: ( 0, 0 ), Value: 1 }, { [(0, 1), 1]: Key: ( 0, 1 ), Value: 1 }, { [(0, 2), 6]: Key: ( 0, 2 ), Value: 6 }, { [(0, 3), 3]: Key: ( 0, 3 ), Value: 3 }, { [(0, 4), 7]: Key: ( 0, 4 ), Value: 7 }, { [(0, 5), 5]: Key: ( 0, 5 ), Value: 5 }, { [(0, 6), 1]: Key: ( 0, 6 ), Value: 1 }, { [(0, 7), 7]: Key: ( 0, 7 ), Value: 7 }, { [(0, 8), 4]: Key: ( 0, 8 ), Value: 4 }, { [(0, 9), 2]: Key: ( 0, 9 ), Value: 2 }, { [(1, 0), 1]: Key: ( 1, 0 ), Value: 1 }, { [(1, 1), 3]: Key: ( 1, 1 ), Value: 3 }, { [(1, 2), 8]: Key: ( 1, 2 ), Value: 8 }, { [(1, 3), 1]: Key: ( 1, 3 ), Value: 1 }, { [(1, 4), 3]: Key: ( 1, 4 ), Value: 3 }, { [(1, 5), 7]: Key: ( 1, 5 ), Value: 7 }, { [(1, 6), 3]: Key: ( 1, 6 ), Value: 3 }, { [(1, 7), 6]: Key: ( 1, 7 ), Value: 6 }, { [(1, 8), 7]: Key: ( 1, 8 ), Value: 7 }, { [(1, 9), 2]: Key: ( 1, 9 ), Value: 2 } ... (80 more) ]</div></td><td><div class=\"dni-plaintext\">( 10, 10 )</div></td><td><div class=\"dni-plaintext\">11</div></td><td><div class=\"dni-plaintext\">11</div></td></tr></tbody></table>"
      ]
     },
     "metadata": {},
     "output_type": "display_data"
    }
   ],
   "source": [
    "let parseInput =\n",
    "    File.ReadLines\n",
    "    >> Seq.map (\n",
    "        stringToChars\n",
    "        >> Seq.map (fun x -> int (x) - int ('0'))\n",
    "    )\n",
    "    >> array2D\n",
    "\n",
    "type Point = int * int\n",
    "type Cells = IDictionary<Point, int>\n",
    "\n",
    "type Input = {\n",
    "    cells : Cells\n",
    "    goal  : Point\n",
    "    width : int\n",
    "    height : int }\n",
    "    \n",
    "let parse (fname:string) =\n",
    "    let cells = parseInput fname\n",
    "    let mx, my = size cells\n",
    "    {\n",
    "        cells  = Map (cells |> Array2D.mapi (fun i j x -> Point(i, j), x) |> Seq.cast<Point * int>)\n",
    "        goal   = mx,my\n",
    "        width  = mx+1\n",
    "        height = my+1\n",
    "    }\n",
    "\n",
    "parse \"aoc.tests/assets/test15.txt\""
   ]
  },
  {
   "cell_type": "code",
   "execution_count": null,
   "metadata": {
    "dotnet_interactive": {
     "language": "fsharp"
    }
   },
   "outputs": [],
   "source": [
    "// 2904 too high"
   ]
  },
  {
   "cell_type": "code",
   "execution_count": null,
   "metadata": {
    "dotnet_interactive": {
     "language": "fsharp"
    }
   },
   "outputs": [
    {
     "name": "stderr",
     "output_type": "stream",
     "text": [
      "Stopped due to error\n"
     ]
    },
    {
     "ename": "Error",
     "evalue": "input.fsx (7,1)-(7,6) typecheck error The value, namespace, type or module 'Day15' is not defined.",
     "output_type": "error",
     "traceback": [
      "input.fsx (7,1)-(7,6) typecheck error The value, namespace, type or module 'Day15' is not defined."
     ]
    }
   ],
   "source": [
    "// 8.9 s 0x ParallelSeq\n",
    "// 8.8 s 1x ParallelSeq\n",
    "// 6.3 s 2x ParallelSeq\n",
    "let input =\n",
    "    System.IO.File.ReadAllText \"aoc.tests/assets/input15.txt\"\n",
    "\n",
    "aoc.Day15.part1 input"
   ]
  },
  {
   "cell_type": "code",
   "execution_count": null,
   "metadata": {
    "dotnet_interactive": {
     "language": "fsharp"
    }
   },
   "outputs": [],
   "source": []
  },
  {
   "cell_type": "code",
   "execution_count": null,
   "metadata": {
    "dotnet_interactive": {
     "language": "fsharp"
    }
   },
   "outputs": [],
   "source": []
  },
  {
   "cell_type": "code",
   "execution_count": null,
   "metadata": {
    "dotnet_interactive": {
     "language": "fsharp"
    }
   },
   "outputs": [],
   "source": []
  }
 ],
 "metadata": {
  "kernelspec": {
   "display_name": ".NET (F#)",
   "language": "F#",
   "name": ".net-fsharp"
  },
  "language_info": {
   "name": "F#"
  }
 },
 "nbformat": 4,
 "nbformat_minor": 2
}
