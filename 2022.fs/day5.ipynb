{
 "cells": [
  {
   "cell_type": "code",
   "execution_count": null,
   "metadata": {
    "dotnet_interactive": {
     "language": "fsharp"
    },
    "polyglot_notebook": {
     "kernelName": "fsharp"
    }
   },
   "outputs": [],
   "source": [
    "#r \"aoc/bin/Debug/net7.0/aoc.dll\" \n",
    "\n",
    "open aoc.utils\n",
    "open System.IO\n",
    "open System.Text.RegularExpressions\n",
    "\n",
    "let rawBoard, moves = \n",
    "    readAllLines \"day5\" \n",
    "    |> Array.splitAt 10\n",
    "\n",
    "let transpose (arr: array<array<string>>) = \n",
    "  let rows = arr.Length\n",
    "  let cols = arr.[0].Length\n",
    "  Array.init cols (fun c -> Array.init rows (fun r -> arr.[r].[c]))\n",
    "\n",
    "\n",
    "let toBoard rawBoard = \n",
    "    rawBoard\n",
    "    |> Array.map (fun x -> Regex.Replace(x, \"\\[([A-Z])\\]\", \" $1 \") ) \n",
    "    |> Array.map (Seq.toList >> List.chunkBySize 4)\n",
    "    |> Array.map (List.map (fun x -> String.Concat(Array.ofList(x)) |> trim) >> List.toArray)\n",
    "    |> transpose \n",
    "    |> Array.map (Array.toList >> List.filter (fun x -> x <> \"\"))\n",
    "\n",
    "let realBoard = \n",
    "    rawBoard \n",
    "    |> Array.take 8 \n",
    "    |> toBoard\n",
    "\n",
    "let realMoves = moves \n",
    "printfn \"%A\" moves\n",
    "//newBoard"
   ]
  },
  {
   "cell_type": "code",
   "execution_count": null,
   "metadata": {
    "dotnet_interactive": {
     "language": "fsharp"
    },
    "polyglot_notebook": {
     "kernelName": "fsharp"
    }
   },
   "outputs": [],
   "source": [
    "let testInput = split \"\\n\" \"\"\"    [D]    \n",
    "[N] [C]    \n",
    "[Z] [M] [P]\n",
    " 1   2   3 \n",
    "\n",
    "move 1 from 2 to 1\n",
    "move 3 from 1 to 3\n",
    "move 2 from 2 to 1\n",
    "move 1 from 1 to 2\"\"\" \n",
    "\n",
    "let board, moves = testInput |> Array.splitAt 3\n",
    "\n",
    "let testBoard = board |> toBoard"
   ]
  },
  {
   "cell_type": "code",
   "execution_count": null,
   "metadata": {
    "dotnet_interactive": {
     "language": "fsharp"
    },
    "polyglot_notebook": {
     "kernelName": "fsharp"
    }
   },
   "outputs": [],
   "source": [
    "let testInput = split \"\\n\" \"\"\"    [D]    \n",
    "[N] [C]    \n",
    "[Z] [M] [P]\n",
    " 1   2   3 \n",
    "\n",
    "move 1 from 2 to 1\n",
    "move 3 from 1 to 3\n",
    "move 2 from 2 to 1\n",
    "move 1 from 1 to 2\"\"\" \n",
    "\n",
    "let board, moves = testInput |> Array.splitAt 3\n",
    "\n",
    "let testBoard = board |> toBoard\n",
    "\n",
    "let moveFromTo (str: string) =\n",
    "    let x = \n",
    "        split \" \" str\n",
    "        |> Array.chunkBySize 2\n",
    "        |> Array.map ((fun x -> x[1]) >> int)\n",
    "\n",
    "    if x.Length = 3 then\n",
    "        (x[0], x[1], x[2])\n",
    "    else \n",
    "        failwithf \"Failed to find pattern from x to y to z in %s\" str\n",
    "\n",
    "type Board = array<list<string>>\n",
    "type Move = int\n",
    "type From = int\n",
    "type To = int\n",
    "type Command = (Move * From * To)\n",
    "\n",
    "\n",
    "let makeAMove (stacks: Board) (command: Command)=\n",
    "    let rec makeMove (stacks: Board) (command: Command)=\n",
    "        let oneMove (stacks:Board) from _to =\n",
    "            let arr = stacks\n",
    "            let head, tail = arr[from - 1] |> List.splitAt 1 \n",
    "            arr[_to - 1] <- head@arr[_to - 1]\n",
    "            arr[from - 1] <- tail\n",
    "            \n",
    "            arr\n",
    "        \n",
    "        match command with\n",
    "        | (m, f, t) when m > 0 -> makeMove (oneMove stacks f t) (m-1, f, t) \n",
    "        | _ -> stacks\n",
    "\n",
    "    makeMove stacks command\n",
    "\n",
    "moves \n",
    "|> Array.skip 2 \n",
    "|> Array.map moveFromTo\n",
    "|> Array.map (fun x -> makeAMove testBoard x)\n",
    "|> Array.head\n",
    "|> Array.map (List.head)\n",
    "|> String.Concat\n"
   ]
  },
  {
   "cell_type": "code",
   "execution_count": null,
   "metadata": {
    "dotnet_interactive": {
     "language": "fsharp"
    },
    "polyglot_notebook": {
     "kernelName": "fsharp"
    }
   },
   "outputs": [],
   "source": [
    "let rawBoard, moves = \n",
    "    readAllLines \"day5\" \n",
    "    |> Array.splitAt 10\n",
    "\n",
    "let transpose (arr: array<array<string>>) = \n",
    "  let rows = arr.Length\n",
    "  let cols = arr.[0].Length\n",
    "  Array.init cols (fun c -> Array.init rows (fun r -> arr.[r].[c]))\n",
    "\n",
    "\n",
    "let toBoard rawBoard = \n",
    "    rawBoard\n",
    "    |> Array.map (fun x -> Regex.Replace(x, \"\\[([A-Z])\\]\", \" $1 \") ) \n",
    "    |> Array.map (Seq.toList >> List.chunkBySize 4)\n",
    "    |> Array.map (List.map (fun x -> String.Concat(Array.ofList(x)) |> trim) >> List.toArray)\n",
    "    |> transpose \n",
    "    |> Array.map (Array.toList >> List.filter (fun x -> x <> \"\"))\n",
    "\n",
    "let realBoard = \n",
    "    rawBoard \n",
    "    |> Array.take 8 \n",
    "    |> toBoard\n",
    "\n",
    "realMoves\n",
    "|> Array.map moveFromTo\n",
    "|> Array.map (fun x -> makeAMove realBoard x)\n",
    "|> Array.head\n",
    "|> Array.map (List.head)\n",
    "|> String.Concat"
   ]
  },
  {
   "cell_type": "code",
   "execution_count": null,
   "metadata": {
    "dotnet_interactive": {
     "language": "fsharp"
    },
    "polyglot_notebook": {
     "kernelName": "fsharp"
    }
   },
   "outputs": [],
   "source": [
    "let makeAMove9001 (stacks: Board) (command: Command)=\n",
    "    let rec makeMove (stacks: Board) (command: Command)=\n",
    "        let oneMove (stacks:Board) n from _to =\n",
    "            let arr = stacks\n",
    "            let head, tail = arr[from - 1] |> List.splitAt n \n",
    "            arr[_to - 1] <- head@arr[_to - 1]\n",
    "            arr[from - 1] <- tail\n",
    "            \n",
    "            arr\n",
    "        \n",
    "        let m, f, t = command\n",
    "        oneMove stacks m f t\n",
    "        \n",
    "\n",
    "    makeMove stacks command\n",
    "\n",
    "let rawBoard, moves = \n",
    "    readAllLines \"day5\" \n",
    "    |> Array.splitAt 10\n",
    "\n",
    "let transpose (arr: array<array<string>>) = \n",
    "  let rows = arr.Length\n",
    "  let cols = arr.[0].Length\n",
    "  Array.init cols (fun c -> Array.init rows (fun r -> arr.[r].[c]))\n",
    "\n",
    "\n",
    "let toBoard rawBoard = \n",
    "    rawBoard\n",
    "    |> Array.map (fun x -> Regex.Replace(x, \"\\[([A-Z])\\]\", \" $1 \") ) \n",
    "    |> Array.map (Seq.toList >> List.chunkBySize 4)\n",
    "    |> Array.map (List.map (fun x -> String.Concat(Array.ofList(x)) |> trim) >> List.toArray)\n",
    "    |> transpose \n",
    "    |> Array.map (Array.toList >> List.filter (fun x -> x <> \"\"))\n",
    "\n",
    "let realBoard = \n",
    "    rawBoard \n",
    "    |> Array.take 8 \n",
    "    |> toBoard\n",
    "\n",
    "realMoves\n",
    "|> Array.map moveFromTo\n",
    "|> Array.map (fun x -> makeAMove9001 realBoard x)\n",
    "|> Array.head\n",
    "|> Array.map (List.head)\n",
    "|> String.Concat"
   ]
  },
  {
   "cell_type": "code",
   "execution_count": null,
   "metadata": {
    "dotnet_interactive": {
     "language": "fsharp"
    },
    "polyglot_notebook": {
     "kernelName": "fsharp"
    }
   },
   "outputs": [],
   "source": []
  }
 ],
 "metadata": {
  "kernelspec": {
   "display_name": ".NET (C#)",
   "language": "C#",
   "name": ".net-csharp"
  },
  "polyglot_notebook": {
   "kernelInfo": {
    "defaultKernelName": "csharp",
    "items": [
     {
      "aliases": [
       "c#",
       "C#"
      ],
      "languageName": "C#",
      "name": "csharp"
     },
     {
      "aliases": [],
      "languageName": "Mermaid",
      "name": "mermaid"
     },
     {
      "aliases": [],
      "languageName": null,
      "name": ".NET"
     },
     {
      "aliases": [
       "f#",
       "F#"
      ],
      "languageName": "F#",
      "name": "fsharp"
     },
     {
      "aliases": [],
      "languageName": "HTML",
      "name": "html"
     },
     {
      "aliases": [
       "js"
      ],
      "languageName": "JavaScript",
      "name": "javascript"
     },
     {
      "aliases": [],
      "languageName": "KQL",
      "name": "kql"
     },
     {
      "aliases": [
       "powershell"
      ],
      "languageName": "PowerShell",
      "name": "pwsh"
     },
     {
      "aliases": [],
      "languageName": "SQL",
      "name": "sql"
     },
     {
      "aliases": [],
      "languageName": null,
      "name": "value"
     },
     {
      "aliases": [
       "frontend"
      ],
      "languageName": null,
      "name": "vscode"
     },
     {
      "aliases": [],
      "name": "webview"
     }
    ]
   }
  }
 },
 "nbformat": 4,
 "nbformat_minor": 2
}
