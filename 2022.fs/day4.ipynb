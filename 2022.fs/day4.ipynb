{
 "cells": [
  {
   "cell_type": "code",
   "execution_count": null,
   "metadata": {
    "dotnet_interactive": {
     "language": "fsharp"
    },
    "polyglot_notebook": {
     "kernelName": "fsharp"
    }
   },
   "outputs": [],
   "source": [
    "#r \"aoc/bin/Debug/net7.0/aoc.dll\" \n",
    "\n",
    "open aoc.utils\n",
    "\n",
    "let input = readAllLines \"day4\" |> Array.map (split \",\")\n",
    "\n",
    "input "
   ]
  },
  {
   "cell_type": "code",
   "execution_count": null,
   "metadata": {
    "dotnet_interactive": {
     "language": "fsharp"
    },
    "polyglot_notebook": {
     "kernelName": "fsharp"
    }
   },
   "outputs": [],
   "source": [
    "let testInput = split \"\\n\" \"\"\"2-4,6-8\n",
    "    2-3,4-5\n",
    "    5-7,7-9\n",
    "    2-8,3-7\n",
    "    6-6,4-6\n",
    "    2-6,4-8\"\"\" |> Array.map (trim >> (split \",\"))\n",
    "\n",
    "let overlap (start1: int) (end1:int) start2 end2 =\n",
    "    (start1 <= start2) && (end1 >= end2) || (start1 >= start2) && (end1 <= end2)\n",
    "\n",
    "input\n",
    "|> Array.map (Array.map (split \"-\") >> (Array.map (Array.map int)))\n",
    "|> Array.map (fun x -> overlap x[0].[0] x[0].[1] x[1].[0] x[1].[1])\n",
    "|> Array.filter id \n",
    "|> Array.length"
   ]
  },
  {
   "cell_type": "code",
   "execution_count": null,
   "metadata": {
    "dotnet_interactive": {
     "language": "fsharp"
    },
    "polyglot_notebook": {
     "kernelName": "fsharp"
    }
   },
   "outputs": [],
   "source": [
    "let someOverlap (start1: int) (end1:int) (start2:int) (end2:int) =\n",
    "    Set.intersect (set [start1..end1]) (set [start2..end2])\n",
    "    |> Seq.length >= 1\n",
    "\n",
    "input\n",
    "|> Array.map (Array.map (split \"-\") >> (Array.map (Array.map int)))\n",
    "|> Array.map (fun x -> someOverlap x[0].[0] x[0].[1] x[1].[0] x[1].[1])\n",
    "|> Array.filter id \n",
    "|> Array.length"
   ]
  },
  {
   "cell_type": "code",
   "execution_count": null,
   "metadata": {
    "dotnet_interactive": {
     "language": "fsharp"
    },
    "polyglot_notebook": {
     "kernelName": "fsharp"
    }
   },
   "outputs": [],
   "source": [
    "[2..4]"
   ]
  }
 ],
 "metadata": {
  "kernelspec": {
   "display_name": ".NET (F#)",
   "language": "F#",
   "name": ".net-fsharp"
  },
  "polyglot_notebook": {
   "kernelInfo": {
    "defaultKernelName": "fsharp",
    "items": [
     {
      "aliases": [
       "f#",
       "F#"
      ],
      "languageName": "F#",
      "name": "fsharp"
     },
     {
      "aliases": [],
      "languageName": null,
      "name": ".NET"
     },
     {
      "aliases": [
       "frontend"
      ],
      "languageName": null,
      "name": "vscode"
     },
     {
      "aliases": [
       "c#",
       "C#"
      ],
      "languageName": "C#",
      "name": "csharp"
     },
     {
      "aliases": [],
      "languageName": "HTML",
      "name": "html"
     },
     {
      "aliases": [
       "js"
      ],
      "languageName": "JavaScript",
      "name": "javascript"
     },
     {
      "aliases": [],
      "languageName": "KQL",
      "name": "kql"
     },
     {
      "aliases": [],
      "languageName": "Mermaid",
      "name": "mermaid"
     },
     {
      "aliases": [
       "powershell"
      ],
      "languageName": "PowerShell",
      "name": "pwsh"
     },
     {
      "aliases": [],
      "languageName": "SQL",
      "name": "sql"
     },
     {
      "aliases": [],
      "languageName": null,
      "name": "value"
     },
     {
      "aliases": [],
      "name": "webview"
     }
    ]
   }
  }
 },
 "nbformat": 4,
 "nbformat_minor": 2
}
